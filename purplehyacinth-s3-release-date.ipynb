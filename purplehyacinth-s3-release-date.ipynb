{
 "cells": [
  {
   "cell_type": "markdown",
   "metadata": {},
   "source": [
    "# Purple Hyacinth Release Date Problem"
   ]
  },
  {
   "cell_type": "markdown",
   "metadata": {},
   "source": [
    "On 16 Feb 2022, @deadsophism [posted to Instagram](https://www.instagram.com/p/CaAW1gQlUr3/) the release date of the next season of Purple Hyacinth in classic sadistic Sophism style:\n",
    "\n",
    "<img src=\"deadsophism-math-problem-purple-hyacinth.jpg\" alt=\"Purple Hyacinth Release Date Problem\" style=\"width: 400px;\"/>"
   ]
  },
  {
   "cell_type": "markdown",
   "metadata": {},
   "source": [
    "Looks horrible. But it's solvable with some highschool algebra, a little calculus, and a computer."
   ]
  },
  {
   "cell_type": "markdown",
   "metadata": {},
   "source": [
    "## Quadratic Roots\n",
    "\n",
    "First, notice that Gamma ($\\Gamma$), is a collection of parabolas.\n",
    "\n",
    "Lambda ($\\Lambda$) is a collection of roots of those parabolas.\n",
    "\n",
    "We can solve for the roots of any parabola, using a [simple quadratic formula](https://arxiv.org/pdf/1910.06709.pdf) discovered by Poh-Shen Loh. If we have a quadratic equation in the form $0 = x^2 + Bx + C$, then the roots are:\n",
    "\n",
    "\n",
    "$$x = -\\frac{B}{2} \\pm \\sqrt{\\frac{B^2}{4} - C}$$\n",
    "\n",
    "If the $x^2$ doesn't have a coefficient of $1$, like for $f_j(x)$, then we can just divide every time by the leading coefficient.\n",
    "\n",
    "The coefficient for $f_j(x)$ is $\\frac{\\pi^2}{24}$, so for all the functions in $\\Gamma$, we have:\n",
    "\n",
    "$$B = \\frac{24}{\\pi^2} b_j$$\n",
    "\n",
    "$$C = \\bigg( \\frac{24}{\\pi^2} \\bigg) \\frac{589 \\sqrt{- b_j}^3}{20} = \\frac{3534 \\sqrt{-b_j}^3}{5 \\pi^2}$$\n",
    "\n",
    "This means that the roots of the functions, (denoted $y_j$ in the problem instead of $x_j$ for some reason) are:\n",
    "\n",
    "$$y_j = -\\frac{\\frac{24}{\\pi^2} b_j}{2} \\pm \\sqrt{\\frac{(\\frac{24}{\\pi^2} b_j)^2}{4} - \\frac{3534 \\sqrt{-b_j}^3}{5 \\pi^2}}$$\n",
    "\n",
    "Ew.\n",
    "\n",
    "The discriminant (the terms inside the square root) of the roots will always be negative given the constraints of the problem (not going to explain here, but feel free to verify). Therefore, $\\sqrt{\\frac{(\\frac{24}{\\pi^2} b_j)^2}{4} - \\frac{3534 \\sqrt{-b_j}^3}{5 \\pi^2}}$ is imaginary for all $y_j$. The problem says to only sum the roots with positive imaginary parts, so we can change $\\pm$ to $+$:\n",
    "\n",
    "$$y_j = -\\frac{\\frac{24}{\\pi^2} b_j}{2} + \\sqrt{\\frac{(\\frac{24}{\\pi^2} b_j)^2}{4} - \\frac{3534 \\sqrt{-b_j}^3}{5 \\pi^2}}$$\n",
    "\n",
    "Not very nice, but after some simplifying we get:\n",
    "\n",
    "$$y_j = \\frac{-12 b_j}{\\pi^2} + \\frac{\\sqrt{6}}{\\pi} \\sqrt{\\frac{24 b_j^2}{\\pi^2} - \\frac{589 \\sqrt{- b_j}^3}{5}}$$\n",
    "\n",
    "Still ugly, and will get uglier because $b_j = - \\frac{1}{n^2}$:\n",
    "\n",
    "$$y_j = \\frac{-12 (\\frac{1}{n^2})}{\\pi^2} + \\frac{\\sqrt{6}}{\\pi} \\sqrt{\\frac{24 (\\frac{1}{n^2})^2}{\\pi^2} - \\frac{589 \\sqrt{- (\\frac{1}{n^2})}^3}{5}}$$\n",
    "\n",
    "After much simplifying we get:\n",
    "\n",
    "$$y_j = \\frac{12}{\\pi^2} \\frac{1}{n^2} + i \\frac{\\sqrt{6}}{n^{3/2} \\pi} \\sqrt{\\frac{24}{n \\pi^2} + \\frac{589}{5}}$$"
   ]
  },
  {
   "cell_type": "markdown",
   "metadata": {},
   "source": [
    "## Infinite Series\n",
    "\n",
    "To get the release date, we need to sum up every element of $\\Lambda$. There is one for each Natural number $n$, so we're dealing with an [infinite series problem](https://tutorial.math.lamar.edu/classes/calcii/seriesintro.aspx):\n",
    "\n",
    "$$\\sum_{n=1}^\\infty y_j = \\sum_{n=1}^\\infty \\bigg( \\frac{12}{\\pi^2} \\frac{1}{n^2} + i \\frac{\\sqrt{6}}{n^{3/2} \\pi} \\sqrt{\\frac{24}{n \\pi^2} + \\frac{589}{5}} \\bigg)$$\n",
    "\n",
    "Which can be written like this:\n",
    "\n",
    "$$\\sum_{n=1}^\\infty y_j = \\frac{12}{\\pi^2} \\sum_{n=1}^\\infty \\frac{1}{n^2} + i \\frac{\\sqrt{6}}{ \\pi} \\sum_{n=1}^\\infty \\frac{1}{n^{3/2}} \\sqrt{\\frac{24}{n \\pi^2} + \\frac{589}{5}}$$\n",
    "\n",
    "The first term is basically the [Basel problem](https://math.stackexchange.com/questions/8337/different-methods-to-compute-sum-limits-k-1-infty-frac1k2-basel-pro/1982747): $\\sum_{n=1}^\\infty \\frac{1}{n^2} = \\frac{\\pi^2}{6}$. So we have:\n",
    "\n",
    "$$\\sum_{n=1}^\\infty y_j = \\frac{12}{\\pi^2} \\frac{\\pi^2}{6} + i \\frac{\\sqrt{6}}{ \\pi} \\sum_{n=1}^\\infty \\frac{1}{n^{3/2}} \\sqrt{\\frac{24}{n \\pi^2} + \\frac{589}{5}}$$\n",
    "\n",
    "$$\\sum_{n=1}^\\infty y_j = 2 + i \\frac{\\sqrt{6}}{ \\pi} \\sum_{n=1}^\\infty \\frac{1}{n^{3/2}} \\sqrt{\\frac{24}{n \\pi^2} + \\frac{589}{5}}$$\n",
    "\n",
    "The real part of the solution is $2$. This could the month or day of the release date, we don't have enough information to tell yet for sure."
   ]
  },
  {
   "cell_type": "markdown",
   "metadata": {},
   "source": [
    "## Number Crunching\n",
    "\n",
    "I couldn't figure how to analytically solve the infinite series in the imaginary part so I used a programming language called [Julia](https://julialang.org/) to solve it for me. For this kind of series, where the terms get exponentially smaller, around 1000 iterations should be good enough to get an idea of the answer."
   ]
  },
  {
   "cell_type": "code",
   "execution_count": 1,
   "metadata": {},
   "outputs": [
    {
     "name": "stdout",
     "output_type": "stream",
     "text": [
      "Value of imaginary part is roughly: 0.0 + 21.68879696048673im\n"
     ]
    }
   ],
   "source": [
    "function im_series(n)\n",
    "  return (1/sqrt(n*n*n)) * sqrt( (24/(pi*pi*n) + 589/(5)) )\n",
    "end\n",
    "\n",
    "function calc_series(my_func; start=1, stop=1000)\n",
    "  return sum(my_func(n) for n in start:stop)\n",
    "end\n",
    "\n",
    "im_series_ans = calc_series(im_series)\n",
    "im_part = ((sqrt(6)/pi) * im_series_ans)im\n",
    "println(\"Value of imaginary part is roughly: \", im_part)"
   ]
  },
  {
   "cell_type": "markdown",
   "metadata": {},
   "source": [
    "So $\\sum_{n=1}^\\infty y_j \\approx 2 + 21.69 i$"
   ]
  },
  {
   "cell_type": "markdown",
   "metadata": {},
   "source": [
    "## Final Answer\n",
    "\n",
    "After all that work, we've figured out that the sum of $\\Lambda$ is approximately $2 + 22 i$\n",
    "\n",
    "### Therefore, the release date is February 22nd, 2022"
   ]
  },
  {
   "cell_type": "code",
   "execution_count": null,
   "metadata": {},
   "outputs": [],
   "source": []
  }
 ],
 "metadata": {
  "kernelspec": {
   "display_name": "Julia 1.7.2",
   "language": "julia",
   "name": "julia-1.7"
  },
  "language_info": {
   "file_extension": ".jl",
   "mimetype": "application/julia",
   "name": "julia",
   "version": "1.7.2"
  }
 },
 "nbformat": 4,
 "nbformat_minor": 4
}
